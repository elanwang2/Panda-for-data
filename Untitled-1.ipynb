{
 "cells": [
  {
   "cell_type": "code",
   "execution_count": null,
   "metadata": {},
   "outputs": [],
   "source": [
    "import pandas as pd\n",
    "import numpy as np\n",
    "import calendar as cal"
   ]
  },
  {
   "cell_type": "markdown",
   "metadata": {},
   "source": [
    "# Questions\n",
    "- what were the features of the bond?\n",
    "- why the bond was issued?\n",
    "- how much was authorized and how much was sold?\n",
    "- at what price was the bond originally sold and what was the price history on the secondary market?\n",
    "- when was the bond redeemed?"
   ]
  },
  {
   "cell_type": "markdown",
   "metadata": {},
   "source": [
    "## Data format notes\n",
    "- PDF Readme on the dataframe's github [here] (https://github.com/jepayne/US-Federal-Debt-Public/blob/master/Industrial-Suite/Documentation/ReadMe_Pub_20180910.pdf)\n",
    "- The order in which the categories are listed is not necessarily the same; some are switched to make the list read more logically\n",
    "\n",
    "### BondList\n",
    " - Import id is not used\n",
    " - Category L* describes the category in level L*\n",
    " - Category L* ID is the numeric ID of the above\n",
    " - Issue IDs are the numeric ID of a bond within its category\n",
    " - L* ID is the bond's ID within level L* (therefore, L1 ID is the unique id for each bond because it is the highest category, so it is the index)\n",
    " - Very few of the Authorizing Act Date entries are actually in the raw data, they may need imputing from the Authorizing Act string - for now, if you want an \"issuance date\" of the security use the \"First Issue Date\" column"
   ]
  },
  {
   "cell_type": "code",
   "execution_count": null,
   "metadata": {},
   "outputs": [],
   "source": [
    "Bondh5 = pd.HDFStore(\"data/BondDF.h5\", mode=\"r\")\n",
    "BondList = Bond5[\"BondList\"]\n",
    "BondQuant = Bondh5[\"BondQuant\"]\n",
    "BondPrice = Bondh5[\"BondPrice\"]\n",
    "Bondh5/close()"
   ]
  },
  {
   "cell_type": "code",
   "execution_count": null,
   "metadata": {},
   "outputs": [],
   "source": [
    "#Helper functions\n",
    "\n",
    "def get_cf_as_string(row):\n",
    "  \"\"\"\n",
    "  Takes a row from the BondList frame and returns the a string indicating the month which the bond\n",
    "  is scheduled.\n",
    "  \"\"\"\n",
    "\n",
    "  for i in range (1, 13):\n",
    "    if row[f\"CF{str(i).zfill(2)}\"] > 0: return cal.month_name[i]\n",
    "  if row[\"Ambiguous\"] > 0: return \"Ambiguous\"\n",
    "  return \"N/A\"\n",
    "\n",
    "def is_nan(value):\n",
    "  \"\"\"\n",
    "  Utility to check if a value is nan\n",
    "  \"\"\"\n",
    "  str_value = str(value)\n",
    "  if str_value == \"nan\" or str_value == \"NaT\": return True"
   ]
  },
  {
   "cell_type": "markdown",
   "metadata": {},
   "source": [
    "## Liberty & Victory Loans\n",
    "\n",
    " - [This concise article](https://www.federalreservehistory.org/essays/liberty-bonds#footnote1) gives a summary of the bonds\n",
    " - Bonds are conveniently classified under the level three category \"Liberty Loan\"\n",
    " - These Bonds were used to fund World War I.\n",
    " - The below cell isolates and prints information about the liberty loans from the BondList dataframe"
   ]
  },
  {
   "cell_type": "code",
   "execution_count": 3,
   "metadata": {},
   "outputs": [
    {
     "ename": "NameError",
     "evalue": "name 'BondList' is not defined",
     "output_type": "error",
     "traceback": [
      "\u001b[0;31m---------------------------------------------------------------------------\u001b[0m",
      "\u001b[0;31mNameError\u001b[0m                                 Traceback (most recent call last)",
      "Cell \u001b[0;32mIn[3], line 1\u001b[0m\n\u001b[0;32m----> 1\u001b[0m liberty_loans \u001b[38;5;241m=\u001b[39m \u001b[43mBondList\u001b[49m\u001b[38;5;241m.\u001b[39mloc[(BondList[\u001b[38;5;124m'\u001b[39m\u001b[38;5;124mCategory L3\u001b[39m\u001b[38;5;124m'\u001b[39m] \u001b[38;5;241m==\u001b[39m \u001b[38;5;124m\"\u001b[39m\u001b[38;5;124mLiberty Loan\u001b[39m\u001b[38;5;124m\"\u001b[39m)]\n\u001b[1;32m      2\u001b[0m BondList\u001b[38;5;241m.\u001b[39miloc[:, \u001b[38;5;241m0\u001b[39m]\n\u001b[1;32m      4\u001b[0m \u001b[38;5;28;01mdef\u001b[39;00m \u001b[38;5;21msummarize_bond\u001b[39m(bond_row):\n",
      "\u001b[0;31mNameError\u001b[0m: name 'BondList' is not defined"
     ]
    }
   ],
   "source": [
    "liberty_loans = BondList.loc[(BondList['Category L3'] == \"Liberty Loan\")]\n",
    "BondList.iloc[:, 0]\n",
    "\n",
    "def summarize_bond(bond_row):\n",
    "    noi = bond_row[\"Treasury's Name of Issue\"]\n",
    "    print(f\"Bond #{bond_row['Issue L1 ID']}: {noi}{', issued ' + str(bond_row['First Issue Date']) if not is_nan(bond_row['First Issue Date']) else ''}\")\n",
    "    if is_nan(bond_row[\"Term Of Loan\"]):\n",
    "        print(\" No further information\")\n",
    "        return bond_row\n",
    "    print(f\"   Term: {bond_row['Term Of Loan']}, Redeemable: {bond_row['Redeemable After Date']}, Payable: {bond_row['Payable Date']}\")\n",
    "    print(f\"   Coupon: {bond_row['Coupon Rate']}, Frequency: {bond_row['Coupons Per Year']}/year, Scheduled Month: {get_cf_as_string(bond_row)}\")\n",
    "    print(f\"   Is callable: {bond_row['Callable'] == 1.0}, Coin: {'Yes/Unspecified' if bond_row['Coin'] > 0 else 'No'}\")\n",
    "    print(\"---------------------------------------------------\")\n",
    "    return bond_row\n",
    "\n",
    "liberty_loans.apply(summarize_bond, axis=1)\n",
    "print(\"Done\") #Here so the cell output does not include the dataframe snippet"
   ]
  }
 ],
 "metadata": {
  "kernelspec": {
   "display_name": "Python 3",
   "language": "python",
   "name": "python3"
  },
  "language_info": {
   "codemirror_mode": {
    "name": "ipython",
    "version": 3
   },
   "file_extension": ".py",
   "mimetype": "text/x-python",
   "name": "python",
   "nbconvert_exporter": "python",
   "pygments_lexer": "ipython3",
   "version": "3.12.4"
  }
 },
 "nbformat": 4,
 "nbformat_minor": 2
}
